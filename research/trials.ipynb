{
 "cells": [
  {
   "cell_type": "code",
   "execution_count": 5,
   "metadata": {},
   "outputs": [
    {
     "name": "stdout",
     "output_type": "stream",
     "text": [
      "OK\n"
     ]
    }
   ],
   "source": [
    "print(\"OK\")"
   ]
  },
  {
   "cell_type": "markdown",
   "metadata": {},
   "source": [
    "### dataclass decorator\n",
    "- Used in scenarios to store user-defined data using these data classes\n",
    "    - Simply to hold data like `configs`, `models` etc\n",
    "- Can specify constants / make DS immutable i.e frozen = True\n",
    "- Checking if 2 instances are same.\n",
    "    - Inherently has __eq__() implemented."
   ]
  },
  {
   "cell_type": "code",
   "execution_count": 6,
   "metadata": {},
   "outputs": [
    {
     "name": "stdout",
     "output_type": "stream",
     "text": [
      "iPhone9\n",
      "Washing Machine\n"
     ]
    }
   ],
   "source": [
    "from dataclasses import dataclass\n",
    "\n",
    "@dataclass\n",
    "class Product:\n",
    "    name: str\n",
    "    price: float\n",
    "    quantity: int\n",
    "\n",
    "p1 = Product(\"iPhone9\", 53000, 1)\n",
    "print( p1.name ) # has __repr__ implemented\n",
    "\n",
    "\n",
    "@dataclass(frozen=True)\n",
    "class ProductFrozen:\n",
    "    name: str\n",
    "    price: float\n",
    "    quantity: int\n",
    "\n",
    "p2 = ProductFrozen(\"Washing Machine\", 60000, 1)\n",
    "print( p2.name ) # has __repr__ implemented\n",
    "# p2.name = \"Fridge\" # Error -> FrozenInstanceError: cannot assign to field 'name'\n"
   ]
  },
  {
   "cell_type": "code",
   "execution_count": 7,
   "metadata": {},
   "outputs": [],
   "source": [
    "import torch\n"
   ]
  },
  {
   "cell_type": "markdown",
   "metadata": {},
   "source": [
    "### Lets Look at 2 scenarios\n",
    "- Low Temperature\n",
    "- High Temperature\n",
    "\n",
    "- `Logits` -> `Softmax` -> Apply `Temperature`\n",
    "- Funda: `Temperature` is always `divided`\n",
    "    - `Lower` the temperature\n",
    "        - => we divided by `smaller` number\n",
    "        - => `gap` b/w low and high prob. `increases`; \n",
    "        - => model is `more confident`\n",
    "    - `Higher` the temperature\n",
    "        - => we divided by `bigger` number\n",
    "        - => `gap` b/w low and high prob. `decreases`; \n",
    "        - => model is `less confident`"
   ]
  },
  {
   "cell_type": "code",
   "execution_count": 16,
   "metadata": {},
   "outputs": [
    {
     "data": {
      "text/plain": [
       "tensor([-1.9000, -3.0000, -2.1000])"
      ]
     },
     "execution_count": 16,
     "metadata": {},
     "output_type": "execute_result"
    }
   ],
   "source": [
    "logits = torch.Tensor([-1.9, -3, -2.1])\n",
    "logits"
   ]
  },
  {
   "cell_type": "code",
   "execution_count": 17,
   "metadata": {},
   "outputs": [
    {
     "data": {
      "text/plain": [
       "tensor([0.4648, 0.1547, 0.3805])"
      ]
     },
     "execution_count": 17,
     "metadata": {},
     "output_type": "execute_result"
    }
   ],
   "source": [
    "# No Temperature\n",
    "torch.softmax(logits, dim = -1)"
   ]
  },
  {
   "cell_type": "code",
   "execution_count": 18,
   "metadata": {},
   "outputs": [
    {
     "data": {
      "text/plain": [
       "tensor([0.5986, 0.0383, 0.3631])"
      ]
     },
     "execution_count": 18,
     "metadata": {},
     "output_type": "execute_result"
    }
   ],
   "source": [
    "## Low Temperature\n",
    "low_temp = 0.4\n",
    "torch.softmax(logits / low_temp, dim = -1)"
   ]
  },
  {
   "cell_type": "code",
   "execution_count": 19,
   "metadata": {},
   "outputs": [
    {
     "data": {
      "text/plain": [
       "tensor([0.3619, 0.2904, 0.3477])"
      ]
     },
     "execution_count": 19,
     "metadata": {},
     "output_type": "execute_result"
    }
   ],
   "source": [
    "## High Temperature\n",
    "high_temp = 5\n",
    "torch.softmax(logits / high_temp, dim = -1)"
   ]
  },
  {
   "cell_type": "code",
   "execution_count": null,
   "metadata": {},
   "outputs": [],
   "source": []
  },
  {
   "cell_type": "code",
   "execution_count": null,
   "metadata": {},
   "outputs": [],
   "source": []
  },
  {
   "cell_type": "code",
   "execution_count": null,
   "metadata": {},
   "outputs": [],
   "source": []
  },
  {
   "cell_type": "code",
   "execution_count": null,
   "metadata": {},
   "outputs": [],
   "source": []
  },
  {
   "cell_type": "code",
   "execution_count": null,
   "metadata": {},
   "outputs": [],
   "source": []
  }
 ],
 "metadata": {
  "kernelspec": {
   "display_name": "base",
   "language": "python",
   "name": "python3"
  },
  "language_info": {
   "codemirror_mode": {
    "name": "ipython",
    "version": 3
   },
   "file_extension": ".py",
   "mimetype": "text/x-python",
   "name": "python",
   "nbconvert_exporter": "python",
   "pygments_lexer": "ipython3",
   "version": "3.12.2"
  }
 },
 "nbformat": 4,
 "nbformat_minor": 2
}
